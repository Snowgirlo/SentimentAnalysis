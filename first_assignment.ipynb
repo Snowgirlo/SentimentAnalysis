{
 "cells": [
  {
   "cell_type": "code",
   "execution_count": 3,
   "id": "5bd88747",
   "metadata": {},
   "outputs": [],
   "source": [
    "f = open(r'C:\\Users\\olyak\\Desktop\\Angewandte Linguistik\\3 Semester\\DH Tools and Methods\\my project\\speech50 25.11.23.txt', 'r')"
   ]
  },
  {
   "cell_type": "markdown",
   "id": "3bd36c19",
   "metadata": {},
   "source": [
    "# Sentiment Analysis of Crisis Communication \n",
    "\n",
    "## The text corpus comprises 50 everyday public speeches of the President of Ukraine, Volodymyr Zelenskyy during wartimes. The first 25 speeches are taken from the beginning of a full-scale war in Ukraine (24.02.22-20.03.22), and the next 25 speeches are the most recent ones (01.11.23-25.11.23). These texts will be analyzed using the NLP method Sentiment Analysis. All speeches (their official English translations) were taken from the official website of the President of Ukraine - https://www.president.gov.ua/en/news/speeches \n",
    "\n",
    "### The goal of this research project is to analyze the difference in the President's public speeches at the beginning of the war and now (almost two years later). The analysis will attempt to identify how the main narratives have been changing and in what way the President has been communicating with his citizens and the whole world during these difficult crisis times, both at the very beginning of the war and now. Both speech content and heading will be taken into account. All the texts were manually extracted from the website along with metadata (heading and date) and placed into a txt file. I may take another 50 speeches if it will be needed for the analysis.\n",
    "\n",
    "### I have uploaded 50 speeches as text files, each containing three categories: heading, date, and speech content. In this context, I will outline the specific actions I want to perform using one speech text as an example.\n"
   ]
  },
  {
   "cell_type": "code",
   "execution_count": 4,
   "id": "35096fcf",
   "metadata": {},
   "outputs": [
    {
     "name": "stdout",
     "output_type": "stream",
     "text": [
      "Heading: [Address of the President of Ukraine on the occasion of the Day of Remembrance of the Victims of the Holodomors]\n",
      "Date: [25 November 2023]\n",
      "Speech Content: [Fellow Ukrainians!\n",
      "\n",
      "Dear people!\n",
      "\n",
      "Every year at the end of November, a cold shiver runs down our spine. Regardless of the weather conditions and our location. With coldness in our hearts we are all united by a tragic date - the fourth Saturday of November. The Holodomor Remembrance Day. When we feel great pain and anger at the same time, as it is impossible to forget, understand, and especially forgive the horrific crimes of genocide that the Ukrainian people experienced in the XX century.\n",
      "\n",
      "Men, women, children. Millions of innocent and murdered. Uncounted and countless. Uncounted at the time. When anything but the truth was written in the \"cause of death\" column. They callously \"wrote off\" thousands of people, did not consider it necessary to count, did not consider people as such. Countless in total. How many of them, starved to death, simply fell in the field, on the road, in their own yard? How many were not found? How many were not searched for? When the rulers had one need: for everyone to keep silent, and the relatives had neither the ability nor the energy to search for and prove the truth, and then there was no one left to search. How many are there?\n",
      "\n",
      "No one knows the exact answer to this question. Just like the answers to other questions. How can one want to kill an entire people? To wipe out an entire nation? How can one take away the very last from people? The last food, the last means of subsistence, the last hope for life and the last chance for salvation? Normal people cannot imagine or understand this. But there is something we know for sure. They tried to exterminate us, to subjugate us, to torture us. They failed. They wanted to conceal the truth from us and hush up the terrible crimes forever. They failed. They wanted to confuse us, to mislead us, to make us not believe, to doubt, to forget, and therefore to forgive. They failed. And today, with utmost sorrow and respect, we honor the memory of millions of our people.\n",
      "\n",
      "Today, as always, at 4 p.m. sharp, we will light the Candles of Remembrance. Many will be with their families, their children and grandchildren. Some of the young Ukrainians will see this candle for the first time. They will ask about it. And we will tell them the story. This candle will tell them a story that they should know, remember, and pass on to their children and grandchildren, who will tell it to their children and grandchildren. And as long as we keep lighting this fire, the memory of millions of our ancestors will not fade. Who were deliberately, premeditatedly and cynically pushed into the embrace of starvation. Because they were Ukrainians. Because they posed an ideological and class threat to the imperial entity, were free people in spirit, and therefore considered dangerous to the regime and its geopolitical intentions. And then, armed groups went from house to house and took away everything that could be eaten. And then the peasants fell to their knees, begging to leave at least some crumbs for their children, but the savages were ruthless. And then grandparents, parents, and relatives quietly \"faded away\" in front of their families, refusing to eat \"so that the children could have more.\" And then entire families, generations, streets and villages disappeared. A tragedy with not only millions of dead, but also millions of unborn. A tragedy that today makes us cry and remain silent, so quietly that the whole world must hear it. This is the sound of Ukrainian pain.\n",
      "\n",
      "The ideologues, organizers, and perpetrators of those crimes have not been held accountable or punished fairly during their lifetime. But this does not mean that we should forgive and forget. Today, the names and biographies of all the perpetrators must be brought to justice. And they bear the punishment of shame, the stigma of their role in world history, the truth that everyone on the planet should know. The truth that today is the least that can be done to honor the millions of victims. Recognizing those terrible acts against Ukrainians as crimes of genocide is extremely important. This is not a formality. This is the attitude of the civilized world to the truth. This is a tribute to justice.\n",
      "\n",
      "We thank all the states that have chosen justice and recognized it. Recognized it officially. Recognized the Holodomor as a crime against people, against history, against Ukraine. A deliberate crime. Exactly 30 years ago, Estonia and Australia were the first to do so. Then Canada, Hungary, and Vatican City did the same. Lithuania, Georgia, and Poland followed. Peru, Paraguay, Ecuador, Colombia, and Mexico. Portugal and the United States of America. And when the war broke out, everything became clear to all those who had been in doubt. Everyone saw literally, live, in real time, what modern Russia, which calls itself the successor to the USSR, is capable of. Which enjoys being the heir to the worst crimes and murders of that era. Exactly murders. Attempts to destroy nations. And during these 2 years of full-scale war, almost as many states as since the beginning of our independence have now recognized the Holodomor as genocide. Germany, the United Kingdom, Italy, France, the Czech Republic, Moldova, Romania, Bulgaria, Brazil, the Netherlands, Belgium, Luxembourg, Ireland, Iceland, Slovenia, Slovakia, Croatia, The European Union and the Parliamentary Assembly of the Council of Europe. Justice is spreading around the world. The world needs to know about it, the world needs to recognize it, the world needs to remember it.\n",
      "\n",
      "I thank everyone who, together with Ukraine, restores historical truth and justice. Who calls a spade a spade. And who does not allow the names of those guilty of genocide and war crimes to hide behind the lie of alleged non-involvement. 90 years ago, the world could not fully see what was really happening. Now there are no those who do not see. There are only those who choose not to notice. They are few. And there will be even fewer. The truth paves the way. On this path, the world must unite and condemn the crimes of the past. The world must unite and stop the crimes of the present.\n",
      "\n",
      "In the last century, famine came from Moscow. Now we hear words of denial from there. And every one of these words of denial actually sounds like a confession - they need famine as a weapon for the future. Famine, cold, terror. Every ton of grain they have stolen now, the blockade of each of our cities, every Russian strike against our ports, against Ukrainian grain storage facilities and elevators, every \"Shahed\" that targets our logistics, and every Russian missile whose trajectory is against Ukrainian life is all the past that has returned since it has not been condemned in time. This is a process where the line of totalitarian Soviet policy and the line of modern Russian policy form the equals sign together. Evil was not stopped. Was not atoned for. And now we are stopping it.\n",
      "\n",
      "This is a time of historical responsibility for the murderers and for those who chose to be followers of the murderers, who act in the same way as before. And justice is important not in 90 years, but now. Because although there are crimes that have no statute of limitations, justice must be timely. The sentence for evil must be timely. Justice needs living witnesses. Those who will see the Russian evil punished. And those who will tell not only about what our people went through, but also about how our people put a just end to the attempts to destroy Ukraine, to torture, subjugate or exterminate it. Ukraine will prevail. Ukraine will not fade away. Ukraine will preserve itself and the truth. And justice. And the words of one of the most famous novels about the Holodomor, The Yellow Prince: \"Their evil will perish, but the truth will never\" will become the living witnesses and the living truth of Ukraine, which endured.\n",
      "\n",
      "May we always remember all our people who died in 1921, 1922 and 1923. In 1946 and 1947. And in the most terrible years of 1932 and 1933, the years of the Holodomor genocide.\n",
      "\n",
      "May the warmth from millions of candles of remembrance warm millions of their souls.\n",
      "\n",
      "May they all rest in peace!]\n"
     ]
    }
   ],
   "source": [
    "all_text = f.read()\n",
    "print(all_text)"
   ]
  },
  {
   "cell_type": "markdown",
   "id": "e91ab6db",
   "metadata": {},
   "source": [
    "### First, we opened a file. In the process of the project, I will separately open each file to extract essential data required for analysis – namely, the heading and the speech content. The date of each speech will be used solely for comparison purposes between the two timely different parts of my text corpus. For my analysis I will use pandas library. \n",
    "\n"
   ]
  },
  {
   "cell_type": "markdown",
   "id": "0458b991",
   "metadata": {},
   "source": [
    "### Then, as we can see from the example speech, the text data is not ideally prepared for analysis. We observe the presence of special characters, square brackets, and numerous white spaces. Therefore, the most crucial task at this stage is to prepare our text for further analysis. We need to convert all words to lowercase and tokenize them. Additionally, using regular expressions, we must remove special characters and, more importantly, eliminate stop words, which carry little meaning on their own. This step helps focus the analysis on meaningful words and reduces noise in the data. We also should download natural language toolkit and the tokenizer data.\n",
    "\n",
    "#### So for the first two steps I would use the following code:\n",
    "\n"
   ]
  },
  {
   "cell_type": "code",
   "execution_count": 6,
   "id": "8a619ab7",
   "metadata": {},
   "outputs": [
    {
     "name": "stdout",
     "output_type": "stream",
     "text": [
      "Original Text:\n",
      "\n",
      "The ideologues, organizers, and perpetrators of those crimes have not been held accountable or punished fairly during their lifetime. But this does not mean that we should forgive and forget. Today, the names and biographies of all the perpetrators must be brought to justice. And they bear the punishment of shame, the stigma of their role in world history, the truth that everyone on the planet should know. The truth that today is the least that can be done to honor the millions of victims. Recognizing those terrible acts against Ukrainians as crimes of genocide is extremely important. This is not a formality. This is the attitude of the civilized world to the truth. This is a tribute to justice.\n",
      "\n",
      "\n",
      "Processed Tokens:\n",
      "['the', 'ideologues', ',', 'organizers', ',', 'and', 'perpetrators', 'of', 'those', 'crimes', 'have', 'not', 'been', 'held', 'accountable', 'or', 'punished', 'fairly', 'during', 'their', 'lifetime', '.', 'but', 'this', 'does', 'not', 'mean', 'that', 'we', 'should', 'forgive', 'and', 'forget', '.', 'today', ',', 'the', 'names', 'and', 'biographies', 'of', 'all', 'the', 'perpetrators', 'must', 'be', 'brought', 'to', 'justice', '.', 'and', 'they', 'bear', 'the', 'punishment', 'of', 'shame', ',', 'the', 'stigma', 'of', 'their', 'role', 'in', 'world', 'history', ',', 'the', 'truth', 'that', 'everyone', 'on', 'the', 'planet', 'should', 'know', '.', 'the', 'truth', 'that', 'today', 'is', 'the', 'least', 'that', 'can', 'be', 'done', 'to', 'honor', 'the', 'millions', 'of', 'victims', '.', 'recognizing', 'those', 'terrible', 'acts', 'against', 'ukrainians', 'as', 'crimes', 'of', 'genocide', 'is', 'extremely', 'important', '.', 'this', 'is', 'not', 'a', 'formality', '.', 'this', 'is', 'the', 'attitude', 'of', 'the', 'civilized', 'world', 'to', 'the', 'truth', '.', 'this', 'is', 'a', 'tribute', 'to', 'justice', '.']\n"
     ]
    },
    {
     "name": "stderr",
     "output_type": "stream",
     "text": [
      "[nltk_data] Downloading package punkt to\n",
      "[nltk_data]     C:\\Users\\olyak\\AppData\\Roaming\\nltk_data...\n",
      "[nltk_data]   Package punkt is already up-to-date!\n"
     ]
    }
   ],
   "source": [
    "import nltk\n",
    "from nltk.tokenize import word_tokenize\n",
    "nltk.download('punkt')  \n",
    "\n",
    "def preprocess_text(text):\n",
    "    text = text.lower()\n",
    "\n",
    "    tokens = word_tokenize(text)\n",
    "\n",
    "    return tokens\n",
    "\n",
    "political_speech_sentence = \"\"\"\n",
    "The ideologues, organizers, and perpetrators of those crimes have not been held accountable or punished fairly during their lifetime. But this does not mean that we should forgive and forget. Today, the names and biographies of all the perpetrators must be brought to justice. And they bear the punishment of shame, the stigma of their role in world history, the truth that everyone on the planet should know. The truth that today is the least that can be done to honor the millions of victims. Recognizing those terrible acts against Ukrainians as crimes of genocide is extremely important. This is not a formality. This is the attitude of the civilized world to the truth. This is a tribute to justice.\n",
    "\"\"\"\n",
    "\n",
    "processed_tokens = preprocess_text(political_speech_sentence)\n",
    "\n",
    "print(\"Original Text:\")\n",
    "print(political_speech_sentence)\n",
    "print(\"\\nProcessed Tokens:\")\n",
    "print(processed_tokens)\n"
   ]
  },
  {
   "cell_type": "markdown",
   "id": "635b9994",
   "metadata": {},
   "source": [
    "### After completing all the necessary steps, I will proceed with Sentiment Analysis, a process with which I am currently becoming familiar. I understand that, following the above steps, I need to vectorize my text data, train the model, and then perform post-processing.  After completing the sentiment analysis process, the results will include assigning sentiment labels (positive, negative, or neutral) to each analyzed speech. \n",
    "\n",
    "### Then, my idea is to create a DataFrame in pandas that will contain headings, speech content, and sentiment labels. With the help of that DataFrame, we can later perform statistical analysis and compare speeches at the beginning of the war with today's speeches."
   ]
  },
  {
   "cell_type": "code",
   "execution_count": null,
   "id": "7bcc957a",
   "metadata": {},
   "outputs": [],
   "source": [
    "f.close()"
   ]
  }
 ],
 "metadata": {
  "kernelspec": {
   "display_name": "Python 3 (ipykernel)",
   "language": "python",
   "name": "python3"
  },
  "language_info": {
   "codemirror_mode": {
    "name": "ipython",
    "version": 3
   },
   "file_extension": ".py",
   "mimetype": "text/x-python",
   "name": "python",
   "nbconvert_exporter": "python",
   "pygments_lexer": "ipython3",
   "version": "3.11.4"
  }
 },
 "nbformat": 4,
 "nbformat_minor": 5
}
